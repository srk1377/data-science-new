{
 "cells": [
  {
   "cell_type": "code",
   "execution_count": 1,
   "id": "50323911-b22b-4f20-9fc1-abba9b35535c",
   "metadata": {},
   "outputs": [
    {
     "name": "stdout",
     "output_type": "stream",
     "text": [
      "Hello Data science\n"
     ]
    }
   ],
   "source": [
    "print(\"Hello Data science\")"
   ]
  },
  {
   "cell_type": "code",
   "execution_count": 2,
   "id": "e3095103-a552-4450-9f27-d8be86a7d7e5",
   "metadata": {},
   "outputs": [
    {
     "name": "stdout",
     "output_type": "stream",
     "text": [
      "my name is Shubham Kavdia\n"
     ]
    }
   ],
   "source": [
    "print(\"my name is Shubham Kavdia\")"
   ]
  },
  {
   "cell_type": "code",
   "execution_count": 3,
   "id": "0924e8f0-3cbf-4301-bf6c-74550f226b13",
   "metadata": {},
   "outputs": [
    {
     "data": {
      "text/plain": [
       "5.0"
      ]
     },
     "execution_count": 3,
     "metadata": {},
     "output_type": "execute_result"
    }
   ],
   "source": [
    "25/5"
   ]
  },
  {
   "cell_type": "code",
   "execution_count": 4,
   "id": "8063e1d4-77e7-4369-8195-9c7fce002bcb",
   "metadata": {},
   "outputs": [
    {
     "data": {
      "text/plain": [
       "50"
      ]
     },
     "execution_count": 4,
     "metadata": {},
     "output_type": "execute_result"
    }
   ],
   "source": [
    "24+26"
   ]
  },
  {
   "cell_type": "code",
   "execution_count": 21,
   "id": "c85a3e7e-0fab-444b-a3c8-920d0c09b9af",
   "metadata": {},
   "outputs": [
    {
     "name": "stdout",
     "output_type": "stream",
     "text": [
      "50\n"
     ]
    }
   ],
   "source": [
    "shubham=24+26\n",
    "print(shubham)"
   ]
  },
  {
   "cell_type": "markdown",
   "id": "9ac1cdeb-0543-4e04-8135-913404dd50d4",
   "metadata": {},
   "source": [
    "Markdown is used to write comment "
   ]
  },
  {
   "cell_type": "code",
   "execution_count": 25,
   "id": "0f5c512a-c80e-493c-8d10-7390fa941bc7",
   "metadata": {},
   "outputs": [
    {
     "name": "stdout",
     "output_type": "stream",
     "text": [
      "50\n"
     ]
    }
   ],
   "source": [
    "print(shubham)"
   ]
  }
 ],
 "metadata": {
  "kernelspec": {
   "display_name": "Python 3 (ipykernel)",
   "language": "python",
   "name": "python3"
  },
  "language_info": {
   "codemirror_mode": {
    "name": "ipython",
    "version": 3
   },
   "file_extension": ".py",
   "mimetype": "text/x-python",
   "name": "python",
   "nbconvert_exporter": "python",
   "pygments_lexer": "ipython3",
   "version": "3.11.7"
  }
 },
 "nbformat": 4,
 "nbformat_minor": 5
}
